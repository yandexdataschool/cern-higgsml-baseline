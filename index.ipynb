{
 "cells": [
  {
   "cell_type": "markdown",
   "metadata": {},
   "source": [
    "# HiggsML baseline solution\n",
    "\n",
    "This code walks you through the baseline solution for higgs competition\n",
    "1. Downloading the data\n",
    "2. Preprocessing\n",
    "3. Training model\n",
    "4. Saving predictions"
   ]
  },
  {
   "cell_type": "markdown",
   "metadata": {},
   "source": [
    "# 1. Loading the data\n",
    "Just a simple bash script to load kaggle higgs dataset.\n",
    "\n",
    "First run may take a few minutes to actually download the data from `opendata.cern.ch`."
   ]
  },
  {
   "cell_type": "code",
   "execution_count": 1,
   "metadata": {
    "collapsed": false
   },
   "outputs": [],
   "source": [
    "%%bash\n",
    "if [[ ! -f 'atlas-higgs-challenge-2014-v2.csv' ]]; then \\\n",
    "    wget -c http://opendata.cern.ch/record/328/files/atlas-higgs-challenge-2014-v2.csv.gz ; \\\n",
    "    gunzip 'atlas-higgs-challenge-2014-v2.csv.gz' ; \\\n",
    "fi"
   ]
  },
  {
   "cell_type": "code",
   "execution_count": 2,
   "metadata": {
    "collapsed": true
   },
   "outputs": [],
   "source": [
    "#read as pandas dataframe\n",
    "import pandas as pd\n",
    "df = pd.read_csv('atlas-higgs-challenge-2014-v2.csv')"
   ]
  },
  {
   "cell_type": "code",
   "execution_count": 3,
   "metadata": {
    "collapsed": false
   },
   "outputs": [
    {
     "data": {
      "text/html": [
       "<div>\n",
       "<table border=\"1\" class=\"dataframe\">\n",
       "  <thead>\n",
       "    <tr style=\"text-align: right;\">\n",
       "      <th></th>\n",
       "      <th>EventId</th>\n",
       "      <th>DER_mass_MMC</th>\n",
       "      <th>DER_mass_transverse_met_lep</th>\n",
       "      <th>DER_mass_vis</th>\n",
       "      <th>DER_pt_h</th>\n",
       "      <th>DER_deltaeta_jet_jet</th>\n",
       "      <th>DER_mass_jet_jet</th>\n",
       "      <th>DER_prodeta_jet_jet</th>\n",
       "      <th>DER_deltar_tau_lep</th>\n",
       "      <th>DER_pt_tot</th>\n",
       "      <th>...</th>\n",
       "      <th>PRI_jet_leading_eta</th>\n",
       "      <th>PRI_jet_leading_phi</th>\n",
       "      <th>PRI_jet_subleading_pt</th>\n",
       "      <th>PRI_jet_subleading_eta</th>\n",
       "      <th>PRI_jet_subleading_phi</th>\n",
       "      <th>PRI_jet_all_pt</th>\n",
       "      <th>Weight</th>\n",
       "      <th>Label</th>\n",
       "      <th>KaggleSet</th>\n",
       "      <th>KaggleWeight</th>\n",
       "    </tr>\n",
       "  </thead>\n",
       "  <tbody>\n",
       "    <tr>\n",
       "      <th>0</th>\n",
       "      <td>100000</td>\n",
       "      <td>138.470</td>\n",
       "      <td>51.655</td>\n",
       "      <td>97.827</td>\n",
       "      <td>27.980</td>\n",
       "      <td>0.910</td>\n",
       "      <td>124.711</td>\n",
       "      <td>2.666</td>\n",
       "      <td>3.064</td>\n",
       "      <td>41.928</td>\n",
       "      <td>...</td>\n",
       "      <td>2.150</td>\n",
       "      <td>0.444</td>\n",
       "      <td>46.062</td>\n",
       "      <td>1.240</td>\n",
       "      <td>-2.475</td>\n",
       "      <td>113.497</td>\n",
       "      <td>0.000814</td>\n",
       "      <td>s</td>\n",
       "      <td>t</td>\n",
       "      <td>0.002653</td>\n",
       "    </tr>\n",
       "    <tr>\n",
       "      <th>1</th>\n",
       "      <td>100001</td>\n",
       "      <td>160.937</td>\n",
       "      <td>68.768</td>\n",
       "      <td>103.235</td>\n",
       "      <td>48.146</td>\n",
       "      <td>-999.000</td>\n",
       "      <td>-999.000</td>\n",
       "      <td>-999.000</td>\n",
       "      <td>3.473</td>\n",
       "      <td>2.078</td>\n",
       "      <td>...</td>\n",
       "      <td>0.725</td>\n",
       "      <td>1.158</td>\n",
       "      <td>-999.000</td>\n",
       "      <td>-999.000</td>\n",
       "      <td>-999.000</td>\n",
       "      <td>46.226</td>\n",
       "      <td>0.681042</td>\n",
       "      <td>b</td>\n",
       "      <td>t</td>\n",
       "      <td>2.233584</td>\n",
       "    </tr>\n",
       "    <tr>\n",
       "      <th>2</th>\n",
       "      <td>100002</td>\n",
       "      <td>-999.000</td>\n",
       "      <td>162.172</td>\n",
       "      <td>125.953</td>\n",
       "      <td>35.635</td>\n",
       "      <td>-999.000</td>\n",
       "      <td>-999.000</td>\n",
       "      <td>-999.000</td>\n",
       "      <td>3.148</td>\n",
       "      <td>9.336</td>\n",
       "      <td>...</td>\n",
       "      <td>2.053</td>\n",
       "      <td>-2.028</td>\n",
       "      <td>-999.000</td>\n",
       "      <td>-999.000</td>\n",
       "      <td>-999.000</td>\n",
       "      <td>44.251</td>\n",
       "      <td>0.715742</td>\n",
       "      <td>b</td>\n",
       "      <td>t</td>\n",
       "      <td>2.347389</td>\n",
       "    </tr>\n",
       "    <tr>\n",
       "      <th>3</th>\n",
       "      <td>100003</td>\n",
       "      <td>143.905</td>\n",
       "      <td>81.417</td>\n",
       "      <td>80.943</td>\n",
       "      <td>0.414</td>\n",
       "      <td>-999.000</td>\n",
       "      <td>-999.000</td>\n",
       "      <td>-999.000</td>\n",
       "      <td>3.310</td>\n",
       "      <td>0.414</td>\n",
       "      <td>...</td>\n",
       "      <td>-999.000</td>\n",
       "      <td>-999.000</td>\n",
       "      <td>-999.000</td>\n",
       "      <td>-999.000</td>\n",
       "      <td>-999.000</td>\n",
       "      <td>-0.000</td>\n",
       "      <td>1.660654</td>\n",
       "      <td>b</td>\n",
       "      <td>t</td>\n",
       "      <td>5.446378</td>\n",
       "    </tr>\n",
       "    <tr>\n",
       "      <th>4</th>\n",
       "      <td>100004</td>\n",
       "      <td>175.864</td>\n",
       "      <td>16.915</td>\n",
       "      <td>134.805</td>\n",
       "      <td>16.405</td>\n",
       "      <td>-999.000</td>\n",
       "      <td>-999.000</td>\n",
       "      <td>-999.000</td>\n",
       "      <td>3.891</td>\n",
       "      <td>16.405</td>\n",
       "      <td>...</td>\n",
       "      <td>-999.000</td>\n",
       "      <td>-999.000</td>\n",
       "      <td>-999.000</td>\n",
       "      <td>-999.000</td>\n",
       "      <td>-999.000</td>\n",
       "      <td>0.000</td>\n",
       "      <td>1.904263</td>\n",
       "      <td>b</td>\n",
       "      <td>t</td>\n",
       "      <td>6.245333</td>\n",
       "    </tr>\n",
       "    <tr>\n",
       "      <th>5</th>\n",
       "      <td>100005</td>\n",
       "      <td>89.744</td>\n",
       "      <td>13.550</td>\n",
       "      <td>59.149</td>\n",
       "      <td>116.344</td>\n",
       "      <td>2.636</td>\n",
       "      <td>284.584</td>\n",
       "      <td>-0.540</td>\n",
       "      <td>1.362</td>\n",
       "      <td>61.619</td>\n",
       "      <td>...</td>\n",
       "      <td>-2.412</td>\n",
       "      <td>-0.653</td>\n",
       "      <td>56.165</td>\n",
       "      <td>0.224</td>\n",
       "      <td>3.106</td>\n",
       "      <td>193.660</td>\n",
       "      <td>0.025434</td>\n",
       "      <td>b</td>\n",
       "      <td>t</td>\n",
       "      <td>0.083414</td>\n",
       "    </tr>\n",
       "    <tr>\n",
       "      <th>6</th>\n",
       "      <td>100006</td>\n",
       "      <td>148.754</td>\n",
       "      <td>28.862</td>\n",
       "      <td>107.782</td>\n",
       "      <td>106.130</td>\n",
       "      <td>0.733</td>\n",
       "      <td>158.359</td>\n",
       "      <td>0.113</td>\n",
       "      <td>2.941</td>\n",
       "      <td>2.545</td>\n",
       "      <td>...</td>\n",
       "      <td>0.864</td>\n",
       "      <td>1.450</td>\n",
       "      <td>56.867</td>\n",
       "      <td>0.131</td>\n",
       "      <td>-2.767</td>\n",
       "      <td>179.877</td>\n",
       "      <td>0.000814</td>\n",
       "      <td>s</td>\n",
       "      <td>t</td>\n",
       "      <td>0.002653</td>\n",
       "    </tr>\n",
       "    <tr>\n",
       "      <th>7</th>\n",
       "      <td>100007</td>\n",
       "      <td>154.916</td>\n",
       "      <td>10.418</td>\n",
       "      <td>94.714</td>\n",
       "      <td>29.169</td>\n",
       "      <td>-999.000</td>\n",
       "      <td>-999.000</td>\n",
       "      <td>-999.000</td>\n",
       "      <td>2.897</td>\n",
       "      <td>1.526</td>\n",
       "      <td>...</td>\n",
       "      <td>-0.715</td>\n",
       "      <td>-1.724</td>\n",
       "      <td>-999.000</td>\n",
       "      <td>-999.000</td>\n",
       "      <td>-999.000</td>\n",
       "      <td>30.638</td>\n",
       "      <td>0.005721</td>\n",
       "      <td>s</td>\n",
       "      <td>t</td>\n",
       "      <td>0.018636</td>\n",
       "    </tr>\n",
       "    <tr>\n",
       "      <th>8</th>\n",
       "      <td>100008</td>\n",
       "      <td>105.594</td>\n",
       "      <td>50.559</td>\n",
       "      <td>100.989</td>\n",
       "      <td>4.288</td>\n",
       "      <td>-999.000</td>\n",
       "      <td>-999.000</td>\n",
       "      <td>-999.000</td>\n",
       "      <td>2.904</td>\n",
       "      <td>4.288</td>\n",
       "      <td>...</td>\n",
       "      <td>-999.000</td>\n",
       "      <td>-999.000</td>\n",
       "      <td>-999.000</td>\n",
       "      <td>-999.000</td>\n",
       "      <td>-999.000</td>\n",
       "      <td>0.000</td>\n",
       "      <td>1.614803</td>\n",
       "      <td>b</td>\n",
       "      <td>t</td>\n",
       "      <td>5.296003</td>\n",
       "    </tr>\n",
       "    <tr>\n",
       "      <th>9</th>\n",
       "      <td>100009</td>\n",
       "      <td>128.053</td>\n",
       "      <td>88.941</td>\n",
       "      <td>69.272</td>\n",
       "      <td>193.392</td>\n",
       "      <td>-999.000</td>\n",
       "      <td>-999.000</td>\n",
       "      <td>-999.000</td>\n",
       "      <td>1.609</td>\n",
       "      <td>28.859</td>\n",
       "      <td>...</td>\n",
       "      <td>-2.767</td>\n",
       "      <td>-2.514</td>\n",
       "      <td>-999.000</td>\n",
       "      <td>-999.000</td>\n",
       "      <td>-999.000</td>\n",
       "      <td>167.735</td>\n",
       "      <td>0.000461</td>\n",
       "      <td>s</td>\n",
       "      <td>t</td>\n",
       "      <td>0.001502</td>\n",
       "    </tr>\n",
       "  </tbody>\n",
       "</table>\n",
       "<p>10 rows × 35 columns</p>\n",
       "</div>"
      ],
      "text/plain": [
       "   EventId  DER_mass_MMC  DER_mass_transverse_met_lep  DER_mass_vis  DER_pt_h  \\\n",
       "0   100000       138.470                       51.655        97.827    27.980   \n",
       "1   100001       160.937                       68.768       103.235    48.146   \n",
       "2   100002      -999.000                      162.172       125.953    35.635   \n",
       "3   100003       143.905                       81.417        80.943     0.414   \n",
       "4   100004       175.864                       16.915       134.805    16.405   \n",
       "5   100005        89.744                       13.550        59.149   116.344   \n",
       "6   100006       148.754                       28.862       107.782   106.130   \n",
       "7   100007       154.916                       10.418        94.714    29.169   \n",
       "8   100008       105.594                       50.559       100.989     4.288   \n",
       "9   100009       128.053                       88.941        69.272   193.392   \n",
       "\n",
       "   DER_deltaeta_jet_jet  DER_mass_jet_jet  DER_prodeta_jet_jet  \\\n",
       "0                 0.910           124.711                2.666   \n",
       "1              -999.000          -999.000             -999.000   \n",
       "2              -999.000          -999.000             -999.000   \n",
       "3              -999.000          -999.000             -999.000   \n",
       "4              -999.000          -999.000             -999.000   \n",
       "5                 2.636           284.584               -0.540   \n",
       "6                 0.733           158.359                0.113   \n",
       "7              -999.000          -999.000             -999.000   \n",
       "8              -999.000          -999.000             -999.000   \n",
       "9              -999.000          -999.000             -999.000   \n",
       "\n",
       "   DER_deltar_tau_lep  DER_pt_tot      ...       PRI_jet_leading_eta  \\\n",
       "0               3.064      41.928      ...                     2.150   \n",
       "1               3.473       2.078      ...                     0.725   \n",
       "2               3.148       9.336      ...                     2.053   \n",
       "3               3.310       0.414      ...                  -999.000   \n",
       "4               3.891      16.405      ...                  -999.000   \n",
       "5               1.362      61.619      ...                    -2.412   \n",
       "6               2.941       2.545      ...                     0.864   \n",
       "7               2.897       1.526      ...                    -0.715   \n",
       "8               2.904       4.288      ...                  -999.000   \n",
       "9               1.609      28.859      ...                    -2.767   \n",
       "\n",
       "   PRI_jet_leading_phi  PRI_jet_subleading_pt  PRI_jet_subleading_eta  \\\n",
       "0                0.444                 46.062                   1.240   \n",
       "1                1.158               -999.000                -999.000   \n",
       "2               -2.028               -999.000                -999.000   \n",
       "3             -999.000               -999.000                -999.000   \n",
       "4             -999.000               -999.000                -999.000   \n",
       "5               -0.653                 56.165                   0.224   \n",
       "6                1.450                 56.867                   0.131   \n",
       "7               -1.724               -999.000                -999.000   \n",
       "8             -999.000               -999.000                -999.000   \n",
       "9               -2.514               -999.000                -999.000   \n",
       "\n",
       "   PRI_jet_subleading_phi  PRI_jet_all_pt    Weight  Label  KaggleSet  \\\n",
       "0                  -2.475         113.497  0.000814      s          t   \n",
       "1                -999.000          46.226  0.681042      b          t   \n",
       "2                -999.000          44.251  0.715742      b          t   \n",
       "3                -999.000          -0.000  1.660654      b          t   \n",
       "4                -999.000           0.000  1.904263      b          t   \n",
       "5                   3.106         193.660  0.025434      b          t   \n",
       "6                  -2.767         179.877  0.000814      s          t   \n",
       "7                -999.000          30.638  0.005721      s          t   \n",
       "8                -999.000           0.000  1.614803      b          t   \n",
       "9                -999.000         167.735  0.000461      s          t   \n",
       "\n",
       "   KaggleWeight  \n",
       "0      0.002653  \n",
       "1      2.233584  \n",
       "2      2.347389  \n",
       "3      5.446378  \n",
       "4      6.245333  \n",
       "5      0.083414  \n",
       "6      0.002653  \n",
       "7      0.018636  \n",
       "8      5.296003  \n",
       "9      0.001502  \n",
       "\n",
       "[10 rows x 35 columns]"
      ]
     },
     "execution_count": 3,
     "metadata": {},
     "output_type": "execute_result"
    }
   ],
   "source": [
    "#a glimpse into the dataset\n",
    "df[:10]"
   ]
  },
  {
   "cell_type": "markdown",
   "metadata": {},
   "source": [
    "# 2. Preprocessing\n",
    "- We apply a couple of standard data analysis techniques\n",
    "  * Selecting the feature __(X)__, target __(y)__ and __weight__ columns \n",
    "  * Imputing missing values\n",
    "  * Adding logarithmic features\n",
    "  * Splitting data into training, test and validation sets\n",
    "\n",
    "\n",
    "You may note that some of the features are redundant for the models we are going to use.\n",
    "Nevertheless, they are computed so that you could jump to your own models quicker."
   ]
  },
  {
   "cell_type": "markdown",
   "metadata": {},
   "source": [
    "##### Selecting columns"
   ]
  },
  {
   "cell_type": "code",
   "execution_count": 4,
   "metadata": {
    "collapsed": true
   },
   "outputs": [],
   "source": [
    "import numpy as np\n",
    "np.random.seed(1337)"
   ]
  },
  {
   "cell_type": "code",
   "execution_count": 5,
   "metadata": {
    "collapsed": false
   },
   "outputs": [],
   "source": [
    "#target column\n",
    "y = df['Label'].values == 's'\n",
    "\n",
    "#features\n",
    "X_raw = df.iloc[:,1:31]\n",
    "\n",
    "#weights\n",
    "weights = df['KaggleWeight'].values\n",
    "\n",
    "#whether sample is in training or test set\n",
    "dataset_mask = df[\"KaggleSet\"].values"
   ]
  },
  {
   "cell_type": "markdown",
   "metadata": {},
   "source": [
    "##### Fill the missing values\n",
    "* Basically replace the missing cells with the most frequent feature values.\n",
    "* This cell may run for a few minutes."
   ]
  },
  {
   "cell_type": "code",
   "execution_count": 6,
   "metadata": {
    "collapsed": false
   },
   "outputs": [],
   "source": [
    "from sklearn.preprocessing import Imputer\n",
    "#imputer = Imputer(missing_values = -999.0, strategy = 'mean')\n",
    "X_imputed = X_raw.values#imputer.fit_transform(X_raw)\n",
    "X_imputed[X_imputed==-999.0] = 999.0"
   ]
  },
  {
   "cell_type": "markdown",
   "metadata": {},
   "source": [
    "If you don't like the perspective of waiting that long each time, use \n",
    "* `X_imputed.to_csv(\"myfile.csv\")` to save\n",
    "* `X_imputed = pd.DataFrame.from_csv(\"myfile.csv\")` to load"
   ]
  },
  {
   "cell_type": "markdown",
   "metadata": {},
   "source": [
    "##### Logarithmic features\n",
    "* Pick all strictly positive columns and add $ log(1 + v) $ transformations of these features.\n",
    "* This has only a minor effect for tree methods used here, however it will simplify trying out other models.\n"
   ]
  },
  {
   "cell_type": "code",
   "execution_count": 7,
   "metadata": {
    "collapsed": false
   },
   "outputs": [],
   "source": [
    "#X columns with strictly positive features (selected manually)\n",
    "positive_features = (0,1,2,3,4,5,7,8,9,10,12,13,16,19,21,23,26)\n",
    "\n",
    "X_log = np.log(1 + X_imputed[:,positive_features])\n",
    "X = np.hstack((X_imputed, X_log))"
   ]
  },
  {
   "cell_type": "markdown",
   "metadata": {},
   "source": [
    "### Scale to equalize feature variances\n",
    "* This too is hardly applicable to the tree ensembles, but other models may benefit from it."
   ]
  },
  {
   "cell_type": "code",
   "execution_count": 8,
   "metadata": {
    "collapsed": false
   },
   "outputs": [],
   "source": [
    "from sklearn.preprocessing import StandardScaler\n",
    "scaler = StandardScaler()\n",
    "X = scaler.fit_transform(X)"
   ]
  },
  {
   "cell_type": "markdown",
   "metadata": {},
   "source": [
    "##### Train/test split\n",
    "* Split data into 3 sets: training, validation and the final test set "
   ]
  },
  {
   "cell_type": "code",
   "execution_count": 9,
   "metadata": {
    "collapsed": false
   },
   "outputs": [],
   "source": [
    "Xtr,Ytr,Wtr = map(lambda v: v[dataset_mask=='t'], [X,y,weights])\n",
    "Xval,Yval,Wval = map(lambda v: v[dataset_mask=='b'], [X,y,weights])\n",
    "Xtest,Ytest,Wtest = map(lambda v: v[dataset_mask=='v'], [X,y,weights])"
   ]
  },
  {
   "cell_type": "markdown",
   "metadata": {},
   "source": [
    "### Training model\n",
    "\n",
    "Here we define and train a custom ensemble of decision trees.\n",
    "* Namely, we use AdaBoost algorithm above Extremely Randomized Trees ensembles.\n",
    "\n",
    "The idea behind [Extremely Randomized Trees](https://pdfs.semanticscholar.org/336a/165c17c9c56160d332b9f4a2b403fccbdbfb.pdf) is to spawn many weak decision trees using random subsamples of data and features, and than average them out in hope to get a quality above any individual tree.\n",
    "\n",
    "[AdaBoost](http://rob.schapire.net/papers/explaining-adaboost.pdf), in it's turn, trains estimators sequentially, each new one laying more emphasis on the data samples that previous estimators had most problems with. This is done through iterative reweighting of data samples based on the ensemble score on these samples.\n",
    "\n",
    "\n",
    "On each iteration of AdaBoost, we train not one, but several extremely randomized trees using AdaBoost-reweighted samples. We use the extremely randomized trees parallelism to spawn a lot of decision trees in less CPU time and AdaBoost steps to 'guide' the new trees to most important samples. \n",
    "\n",
    "\n",
    "We have taken initial inner model parameters from several Kaggle Higgs Boson Competition forum discussions and made a few steps with sheer gut feeling.\n",
    "We have initialized AdaBoost params with numbers whispered by a weasel ghost, and after a few tweaks they turned out to work ~not too badly.\n",
    "\n",
    "The final model has 300*20=6000 low-quality trees."
   ]
  },
  {
   "cell_type": "code",
   "execution_count": 10,
   "metadata": {
    "collapsed": true
   },
   "outputs": [],
   "source": [
    "from sklearn.ensemble import ExtraTreesClassifier, AdaBoostClassifier\n",
    "# The inner Extremely Randomized Trees ensemble to be trained at each AdaBoost step\n",
    "rf = ExtraTreesClassifier(\n",
    "            n_estimators = 300,\n",
    "            max_features = 30,\n",
    "            max_depth = 12,\n",
    "            min_samples_leaf = 100,\n",
    "            min_samples_split = 100,\n",
    "            verbose = 1,\n",
    "            n_jobs = -1 #<- this flag allows to use all CPU cores available. Remove if you don't want that.\n",
    ")\n",
    "\n",
    "# The AdaBoost is defined here\n",
    "classifier = AdaBoostClassifier(\n",
    "        n_estimators = 20,\n",
    "        learning_rate = 0.75,\n",
    "        base_estimator = rf)"
   ]
  },
  {
   "cell_type": "code",
   "execution_count": 11,
   "metadata": {
    "collapsed": false,
    "scrolled": true
   },
   "outputs": [
    {
     "name": "stderr",
     "output_type": "stream",
     "text": [
      "[Parallel(n_jobs=-1)]: Done   1 out of 300 | elapsed:    3.7s remaining: 18.4min\n",
      "[Parallel(n_jobs=-1)]: Done 300 out of 300 | elapsed:  1.1min finished\n",
      "[Parallel(n_jobs=16)]: Done   1 out of 300 | elapsed:    0.1s remaining:   30.9s\n",
      "[Parallel(n_jobs=16)]: Done 300 out of 300 | elapsed:    0.8s finished\n",
      "[Parallel(n_jobs=-1)]: Done   1 out of 300 | elapsed:    3.6s remaining: 17.8min\n",
      "[Parallel(n_jobs=-1)]: Done 300 out of 300 | elapsed:  1.1min finished\n",
      "[Parallel(n_jobs=16)]: Done   1 out of 287 | elapsed:    0.1s remaining:   23.1s\n",
      "[Parallel(n_jobs=16)]: Done 300 out of 300 | elapsed:    0.8s finished\n",
      "[Parallel(n_jobs=-1)]: Done   1 out of 300 | elapsed:    3.8s remaining: 18.8min\n",
      "[Parallel(n_jobs=-1)]: Done 300 out of 300 | elapsed:  1.1min finished\n",
      "[Parallel(n_jobs=16)]: Done   1 out of  35 | elapsed:    0.0s remaining:    1.1s\n",
      "[Parallel(n_jobs=16)]: Done 300 out of 300 | elapsed:    0.8s finished\n",
      "[Parallel(n_jobs=-1)]: Done   1 out of 300 | elapsed:    3.3s remaining: 16.5min\n",
      "[Parallel(n_jobs=-1)]: Done 300 out of 300 | elapsed:  1.1min finished\n",
      "[Parallel(n_jobs=16)]: Done   1 out of 131 | elapsed:    0.0s remaining:    5.7s\n",
      "[Parallel(n_jobs=16)]: Done 300 out of 300 | elapsed:    0.8s finished\n",
      "[Parallel(n_jobs=-1)]: Done   1 out of 300 | elapsed:    3.5s remaining: 17.3min\n",
      "[Parallel(n_jobs=-1)]: Done 300 out of 300 | elapsed:  1.1min finished\n",
      "[Parallel(n_jobs=16)]: Done   1 out of 122 | elapsed:    0.1s remaining:    8.4s\n",
      "[Parallel(n_jobs=16)]: Done 300 out of 300 | elapsed:    0.8s finished\n",
      "[Parallel(n_jobs=-1)]: Done   1 out of 300 | elapsed:    4.0s remaining: 19.7min\n",
      "[Parallel(n_jobs=-1)]: Done 300 out of 300 | elapsed:  1.2min finished\n",
      "[Parallel(n_jobs=16)]: Done   1 out of 300 | elapsed:    0.1s remaining:   28.1s\n",
      "[Parallel(n_jobs=16)]: Done 300 out of 300 | elapsed:    0.8s finished\n",
      "[Parallel(n_jobs=-1)]: Done   1 out of 300 | elapsed:    4.1s remaining: 20.6min\n",
      "[Parallel(n_jobs=-1)]: Done 300 out of 300 | elapsed:  1.2min finished\n",
      "[Parallel(n_jobs=16)]: Done   1 out of 300 | elapsed:    0.1s remaining:   26.6s\n",
      "[Parallel(n_jobs=16)]: Done 300 out of 300 | elapsed:    0.8s finished\n",
      "[Parallel(n_jobs=-1)]: Done   1 out of 300 | elapsed:    3.6s remaining: 18.0min\n",
      "[Parallel(n_jobs=-1)]: Done 300 out of 300 | elapsed:  1.2min finished\n",
      "[Parallel(n_jobs=16)]: Done   1 out of 300 | elapsed:    0.1s remaining:   26.3s\n",
      "[Parallel(n_jobs=16)]: Done 300 out of 300 | elapsed:    0.7s finished\n",
      "[Parallel(n_jobs=-1)]: Done   1 out of 300 | elapsed:    3.8s remaining: 18.9min\n",
      "[Parallel(n_jobs=-1)]: Done 300 out of 300 | elapsed:  1.2min finished\n",
      "[Parallel(n_jobs=16)]: Done   1 out of 194 | elapsed:    0.1s remaining:   11.5s\n",
      "[Parallel(n_jobs=16)]: Done 300 out of 300 | elapsed:    0.7s finished\n",
      "[Parallel(n_jobs=-1)]: Done   1 out of 300 | elapsed:    4.8s remaining: 23.8min\n",
      "[Parallel(n_jobs=-1)]: Done 300 out of 300 | elapsed:  1.2min finished\n",
      "[Parallel(n_jobs=16)]: Done   1 out of 232 | elapsed:    0.1s remaining:   17.8s\n",
      "[Parallel(n_jobs=16)]: Done 300 out of 300 | elapsed:    0.7s finished\n",
      "[Parallel(n_jobs=-1)]: Done   1 out of 300 | elapsed:    4.1s remaining: 20.4min\n",
      "[Parallel(n_jobs=-1)]: Done 300 out of 300 | elapsed:  1.2min finished\n",
      "[Parallel(n_jobs=16)]: Done   1 out of 300 | elapsed:    0.1s remaining:   16.9s\n",
      "[Parallel(n_jobs=16)]: Done 300 out of 300 | elapsed:    0.7s finished\n",
      "[Parallel(n_jobs=-1)]: Done   1 out of 300 | elapsed:    4.2s remaining: 20.9min\n",
      "[Parallel(n_jobs=-1)]: Done 300 out of 300 | elapsed:  1.2min finished\n",
      "[Parallel(n_jobs=16)]: Done   1 out of  30 | elapsed:    0.1s remaining:    1.5s\n",
      "[Parallel(n_jobs=16)]: Done 300 out of 300 | elapsed:    0.7s finished\n",
      "[Parallel(n_jobs=-1)]: Done   1 out of 300 | elapsed:    3.8s remaining: 18.8min\n",
      "[Parallel(n_jobs=-1)]: Done 300 out of 300 | elapsed:  1.2min finished\n",
      "[Parallel(n_jobs=16)]: Done   1 out of 268 | elapsed:    0.1s remaining:   20.7s\n",
      "[Parallel(n_jobs=16)]: Done 300 out of 300 | elapsed:    0.7s finished\n",
      "[Parallel(n_jobs=-1)]: Done   1 out of 300 | elapsed:    3.8s remaining: 19.0min\n",
      "[Parallel(n_jobs=-1)]: Done 300 out of 300 | elapsed:  1.2min finished\n",
      "[Parallel(n_jobs=16)]: Done   1 out of 112 | elapsed:    0.1s remaining:   10.2s\n",
      "[Parallel(n_jobs=16)]: Done 300 out of 300 | elapsed:    0.7s finished\n",
      "[Parallel(n_jobs=-1)]: Done   1 out of 300 | elapsed:    3.4s remaining: 17.1min\n",
      "[Parallel(n_jobs=-1)]: Done 300 out of 300 | elapsed:  1.2min finished\n",
      "[Parallel(n_jobs=16)]: Done   1 out of 300 | elapsed:    0.1s remaining:   39.9s\n",
      "[Parallel(n_jobs=16)]: Done 300 out of 300 | elapsed:    0.7s finished\n",
      "[Parallel(n_jobs=-1)]: Done   1 out of 300 | elapsed:    3.8s remaining: 19.1min\n",
      "[Parallel(n_jobs=-1)]: Done 300 out of 300 | elapsed:  1.2min finished\n",
      "[Parallel(n_jobs=16)]: Done   1 out of 300 | elapsed:    0.1s remaining:   40.2s\n",
      "[Parallel(n_jobs=16)]: Done 300 out of 300 | elapsed:    0.7s finished\n",
      "[Parallel(n_jobs=-1)]: Done   1 out of 300 | elapsed:    3.1s remaining: 15.2min\n",
      "[Parallel(n_jobs=-1)]: Done 300 out of 300 | elapsed:   57.7s finished\n",
      "[Parallel(n_jobs=16)]: Done   1 out of 118 | elapsed:    0.1s remaining:    6.2s\n",
      "[Parallel(n_jobs=16)]: Done 300 out of 300 | elapsed:    0.7s finished\n",
      "[Parallel(n_jobs=-1)]: Done   1 out of 300 | elapsed:    3.2s remaining: 16.1min\n",
      "[Parallel(n_jobs=-1)]: Done 300 out of 300 | elapsed:   59.8s finished\n",
      "[Parallel(n_jobs=16)]: Done   1 out of 300 | elapsed:    0.1s remaining:   27.4s\n",
      "[Parallel(n_jobs=16)]: Done 300 out of 300 | elapsed:    0.8s finished\n",
      "[Parallel(n_jobs=-1)]: Done   1 out of 300 | elapsed:    3.9s remaining: 19.6min\n",
      "[Parallel(n_jobs=-1)]: Done 300 out of 300 | elapsed:   58.6s finished\n",
      "[Parallel(n_jobs=16)]: Done   1 out of 300 | elapsed:    0.1s remaining:   21.1s\n",
      "[Parallel(n_jobs=16)]: Done 300 out of 300 | elapsed:    0.7s finished\n",
      "[Parallel(n_jobs=-1)]: Done   1 out of 300 | elapsed:    3.2s remaining: 15.8min\n",
      "[Parallel(n_jobs=-1)]: Done 300 out of 300 | elapsed:   57.9s finished\n",
      "[Parallel(n_jobs=16)]: Done   1 out of 300 | elapsed:    0.1s remaining:   27.9s\n",
      "[Parallel(n_jobs=16)]: Done 300 out of 300 | elapsed:    0.7s finished\n"
     ]
    },
    {
     "name": "stdout",
     "output_type": "stream",
     "text": [
      "model fit\n",
      "CPU times: user 5h 56min 48s, sys: 37.9 s, total: 5h 57min 26s\n",
      "Wall time: 23min 8s\n"
     ]
    }
   ],
   "source": [
    "%%time\n",
    "print \"model fit\"\n",
    "classifier.fit(Xtr, Ytr, sample_weight = Wtr)\n",
    "classifier.verbose=0"
   ]
  },
  {
   "cell_type": "markdown",
   "metadata": {},
   "source": [
    "# Evaluate AMS threshold\n",
    "* Approximate Median significance is a threshold-dependent metric\n",
    "* In other words, it requires you to assign \"signal\" vs \"background\" class, not just probabilities.\n",
    "* To choose the best threshold for signal probability, we shall use a separate validation set.\n",
    "* We use a simple grid search. If you want something bigger, go for [rep.metrics.OptimalAMS](https://yandex.github.io/rep/report.html#rep.report.metrics.OptimalAMS)"
   ]
  },
  {
   "cell_type": "code",
   "execution_count": 12,
   "metadata": {
    "collapsed": true
   },
   "outputs": [],
   "source": [
    "def ams(s, b, br=10.):\n",
    "    \"\"\"\n",
    "    Regularized approximate median significance\n",
    "\n",
    "    :param s: amount of signal passed\n",
    "    :param b: amount of background passed\n",
    "    :param br: regularization\n",
    "    \"\"\"\n",
    "    radicand = 2 * ((s + b + br) * np.log(1.0 + s / (b + br)) - s)\n",
    "    return np.sqrt(radicand)"
   ]
  },
  {
   "cell_type": "code",
   "execution_count": 13,
   "metadata": {
    "collapsed": false
   },
   "outputs": [
    {
     "name": "stderr",
     "output_type": "stream",
     "text": [
      "[Parallel(n_jobs=16)]: Done   1 out of 242 | elapsed:    0.0s remaining:   11.7s\n",
      "[Parallel(n_jobs=16)]: Done 300 out of 300 | elapsed:    0.3s finished\n",
      "[Parallel(n_jobs=16)]: Done   1 out of 160 | elapsed:    0.0s remaining:    3.6s\n",
      "[Parallel(n_jobs=16)]: Done 300 out of 300 | elapsed:    0.3s finished\n",
      "[Parallel(n_jobs=16)]: Done   1 out of  76 | elapsed:    0.0s remaining:    3.4s\n",
      "[Parallel(n_jobs=16)]: Done 300 out of 300 | elapsed:    0.3s finished\n",
      "[Parallel(n_jobs=16)]: Done   1 out of 126 | elapsed:    0.0s remaining:    4.0s\n",
      "[Parallel(n_jobs=16)]: Done 300 out of 300 | elapsed:    0.3s finished\n",
      "[Parallel(n_jobs=16)]: Done   1 out of  74 | elapsed:    0.0s remaining:    2.2s\n",
      "[Parallel(n_jobs=16)]: Done 300 out of 300 | elapsed:    0.3s finished\n",
      "[Parallel(n_jobs=16)]: Done   1 out of 119 | elapsed:    0.1s remaining:    7.0s\n",
      "[Parallel(n_jobs=16)]: Done 300 out of 300 | elapsed:    0.3s finished\n",
      "[Parallel(n_jobs=16)]: Done   1 out of 168 | elapsed:    0.0s remaining:    6.5s\n",
      "[Parallel(n_jobs=16)]: Done 300 out of 300 | elapsed:    0.3s finished\n",
      "[Parallel(n_jobs=16)]: Done   1 out of  15 | elapsed:    0.0s remaining:    0.5s\n",
      "[Parallel(n_jobs=16)]: Done 300 out of 300 | elapsed:    0.3s finished\n",
      "[Parallel(n_jobs=16)]: Done   1 out of 183 | elapsed:    0.0s remaining:    3.2s\n",
      "[Parallel(n_jobs=16)]: Done 300 out of 300 | elapsed:    0.3s finished\n",
      "[Parallel(n_jobs=16)]: Done   1 out of  12 | elapsed:    0.0s remaining:    0.4s\n",
      "[Parallel(n_jobs=16)]: Done 300 out of 300 | elapsed:    0.3s finished\n",
      "[Parallel(n_jobs=16)]: Done   1 out of 100 | elapsed:    0.0s remaining:    2.9s\n",
      "[Parallel(n_jobs=16)]: Done 300 out of 300 | elapsed:    0.3s finished\n",
      "[Parallel(n_jobs=16)]: Done   1 out of  14 | elapsed:    0.0s remaining:    0.2s\n",
      "[Parallel(n_jobs=16)]: Done 300 out of 300 | elapsed:    0.3s finished\n",
      "[Parallel(n_jobs=16)]: Done   1 out of 144 | elapsed:    0.1s remaining:    7.4s\n",
      "[Parallel(n_jobs=16)]: Done 300 out of 300 | elapsed:    0.3s finished\n",
      "[Parallel(n_jobs=16)]: Done   1 out of 113 | elapsed:    0.0s remaining:    4.3s\n",
      "[Parallel(n_jobs=16)]: Done 300 out of 300 | elapsed:    0.3s finished\n",
      "[Parallel(n_jobs=16)]: Done   1 out of 292 | elapsed:    0.0s remaining:    9.2s\n",
      "[Parallel(n_jobs=16)]: Done 300 out of 300 | elapsed:    0.3s finished\n",
      "[Parallel(n_jobs=16)]: Done   1 out of  13 | elapsed:    0.0s remaining:    0.3s\n",
      "[Parallel(n_jobs=16)]: Done 300 out of 300 | elapsed:    0.3s finished\n",
      "[Parallel(n_jobs=16)]: Done   1 out of  54 | elapsed:    0.0s remaining:    2.3s\n",
      "[Parallel(n_jobs=16)]: Done 300 out of 300 | elapsed:    0.3s finished\n",
      "[Parallel(n_jobs=16)]: Done   1 out of  38 | elapsed:    0.0s remaining:    1.5s\n",
      "[Parallel(n_jobs=16)]: Done 300 out of 300 | elapsed:    0.3s finished\n",
      "[Parallel(n_jobs=16)]: Done   1 out of 183 | elapsed:    0.0s remaining:    5.2s\n",
      "[Parallel(n_jobs=16)]: Done 300 out of 300 | elapsed:    0.3s finished\n",
      "[Parallel(n_jobs=16)]: Done   1 out of  82 | elapsed:    0.0s remaining:    1.5s\n",
      "[Parallel(n_jobs=16)]: Done 300 out of 300 | elapsed:    0.3s finished\n"
     ]
    }
   ],
   "source": [
    "#predict signal probabilities for validation set\n",
    "Yval_proba = classifier.predict_proba(Xval)[:,1]"
   ]
  },
  {
   "cell_type": "code",
   "execution_count": 14,
   "metadata": {
    "collapsed": false
   },
   "outputs": [],
   "source": [
    "Yval_proba_sort = Yval_proba[np.argsort(Yval_proba)]\n",
    "Yval_sort = Yval[np.argsort(Yval_proba)]\n",
    "Wval_sort = Wval[np.argsort(Yval_proba)]\n",
    "\n",
    "min_quantile = 0.0\n",
    "max_quantile = 0.99\n",
    "\n",
    "i_min = int(len(Yval_proba_sort)*min_quantile)\n",
    "i_max = int(len(Yval_proba_sort)*max_quantile)\n",
    "\n",
    "s = (Yval_sort[i_min:]*Wval_sort[i_min:]).sum()\n",
    "b = ((1-Yval_sort[i_min:])*Wval_sort[i_min:]).sum()\n",
    "\n",
    "ams_steps = [ams(s,b)]\n",
    "for i in range(i_min+1,i_max):\n",
    "    if Yval_sort[i]:\n",
    "        s -=Wval_sort[i]\n",
    "    else:\n",
    "        b -=Wval_sort[i]\n",
    "    ams_steps.append(ams(s,b))\n",
    "    \n",
    "quantiles = np.arange(i_min,i_max) / float( len(Yval))\n",
    "optimal_quantile = quantiles[np.argmax(ams_steps)]"
   ]
  },
  {
   "cell_type": "markdown",
   "metadata": {},
   "source": [
    "##### Plot AMS against cut percentile"
   ]
  },
  {
   "cell_type": "code",
   "execution_count": 15,
   "metadata": {
    "collapsed": false
   },
   "outputs": [
    {
     "name": "stdout",
     "output_type": "stream",
     "text": [
      "Optimal quantile threshold: 0.84407\n",
      "Optimal AMS: 3.74893698742\n"
     ]
    },
    {
     "name": "stderr",
     "output_type": "stream",
     "text": [
      "/usr/local/lib/python2.7/dist-packages/matplotlib/font_manager.py:273: UserWarning: Matplotlib is building the font cache using fc-list. This may take a moment.\n",
      "  warnings.warn('Matplotlib is building the font cache using fc-list. This may take a moment.')\n"
     ]
    },
    {
     "data": {
      "image/png": "[encoded data removed]",
      "text/plain": [
       "<matplotlib.figure.Figure at 0x7f1ab9920bd0>"
      ]
     },
     "metadata": {},
     "output_type": "display_data"
    }
   ],
   "source": [
    "import matplotlib.pyplot as plt\n",
    "%matplotlib inline\n",
    "plt.plot(quantiles,ams_steps)\n",
    "plt.title(\"Validation AMS against quantile threshold\")\n",
    "print \"Optimal quantile threshold:\",optimal_quantile\n",
    "print \"Optimal AMS:\",np.max(ams_steps)"
   ]
  },
  {
   "cell_type": "code",
   "execution_count": 16,
   "metadata": {
    "collapsed": true
   },
   "outputs": [],
   "source": [
    "#Weasel(x)\n",
    "optimal_quantile = 0.85"
   ]
  },
  {
   "cell_type": "markdown",
   "metadata": {},
   "source": [
    "# Finally, score the test set\n",
    "* Using only the parameters learned on training and test set"
   ]
  },
  {
   "cell_type": "code",
   "execution_count": 17,
   "metadata": {
    "collapsed": false
   },
   "outputs": [
    {
     "name": "stderr",
     "output_type": "stream",
     "text": [
      "[Parallel(n_jobs=16)]: Done   1 out of 300 | elapsed:    0.1s remaining:   29.9s\n",
      "[Parallel(n_jobs=16)]: Done 300 out of 300 | elapsed:    1.3s finished\n",
      "[Parallel(n_jobs=16)]: Done   1 out of 300 | elapsed:    0.1s remaining:   25.1s\n",
      "[Parallel(n_jobs=16)]: Done 300 out of 300 | elapsed:    1.3s finished\n",
      "[Parallel(n_jobs=16)]: Done   1 out of 107 | elapsed:    0.1s remaining:   11.9s\n",
      "[Parallel(n_jobs=16)]: Done 300 out of 300 | elapsed:    1.3s finished\n",
      "[Parallel(n_jobs=16)]: Done   1 out of 188 | elapsed:    0.1s remaining:   14.3s\n",
      "[Parallel(n_jobs=16)]: Done 300 out of 300 | elapsed:    1.2s finished\n",
      "[Parallel(n_jobs=16)]: Done   1 out of 300 | elapsed:    0.1s remaining:   24.7s\n",
      "[Parallel(n_jobs=16)]: Done 300 out of 300 | elapsed:    1.2s finished\n",
      "[Parallel(n_jobs=16)]: Done   1 out of  35 | elapsed:    0.1s remaining:    1.8s\n",
      "[Parallel(n_jobs=16)]: Done 300 out of 300 | elapsed:    1.2s finished\n",
      "[Parallel(n_jobs=16)]: Done   1 out of 300 | elapsed:    0.1s remaining:   29.5s\n",
      "[Parallel(n_jobs=16)]: Done 300 out of 300 | elapsed:    1.2s finished\n",
      "[Parallel(n_jobs=16)]: Done   1 out of 300 | elapsed:    0.1s remaining:   28.7s\n",
      "[Parallel(n_jobs=16)]: Done 300 out of 300 | elapsed:    1.2s finished\n",
      "[Parallel(n_jobs=16)]: Done   1 out of 300 | elapsed:    0.1s remaining:   16.1s\n",
      "[Parallel(n_jobs=16)]: Done 300 out of 300 | elapsed:    1.1s finished\n",
      "[Parallel(n_jobs=16)]: Done   1 out of 300 | elapsed:    0.1s remaining:   21.2s\n",
      "[Parallel(n_jobs=16)]: Done 300 out of 300 | elapsed:    1.1s finished\n",
      "[Parallel(n_jobs=16)]: Done   1 out of 300 | elapsed:    0.1s remaining:   19.5s\n",
      "[Parallel(n_jobs=16)]: Done 300 out of 300 | elapsed:    1.1s finished\n",
      "[Parallel(n_jobs=16)]: Done   1 out of 300 | elapsed:    0.1s remaining:   34.5s\n",
      "[Parallel(n_jobs=16)]: Done 300 out of 300 | elapsed:    1.1s finished\n",
      "[Parallel(n_jobs=16)]: Done   1 out of 300 | elapsed:    0.1s remaining:   27.5s\n",
      "[Parallel(n_jobs=16)]: Done 300 out of 300 | elapsed:    1.1s finished\n",
      "[Parallel(n_jobs=16)]: Done   1 out of 300 | elapsed:    0.1s remaining:   27.5s\n",
      "[Parallel(n_jobs=16)]: Done 300 out of 300 | elapsed:    1.1s finished\n",
      "[Parallel(n_jobs=16)]: Done   1 out of 300 | elapsed:    0.1s remaining:   37.0s\n",
      "[Parallel(n_jobs=16)]: Done 300 out of 300 | elapsed:    1.1s finished\n",
      "[Parallel(n_jobs=16)]: Done   1 out of 245 | elapsed:    0.1s remaining:   17.2s\n",
      "[Parallel(n_jobs=16)]: Done 300 out of 300 | elapsed:    1.1s finished\n",
      "[Parallel(n_jobs=16)]: Done   1 out of 172 | elapsed:    0.1s remaining:   10.5s\n",
      "[Parallel(n_jobs=16)]: Done 300 out of 300 | elapsed:    1.2s finished\n",
      "[Parallel(n_jobs=16)]: Done   1 out of 300 | elapsed:    0.1s remaining:   32.3s\n",
      "[Parallel(n_jobs=16)]: Done 300 out of 300 | elapsed:    1.2s finished\n",
      "[Parallel(n_jobs=16)]: Done   1 out of 204 | elapsed:    0.1s remaining:   10.9s\n",
      "[Parallel(n_jobs=16)]: Done 300 out of 300 | elapsed:    1.2s finished\n",
      "[Parallel(n_jobs=16)]: Done   1 out of 225 | elapsed:    0.1s remaining:   17.5s\n",
      "[Parallel(n_jobs=16)]: Done 300 out of 300 | elapsed:    1.1s finished\n"
     ]
    }
   ],
   "source": [
    "Ytest_proba = classifier.predict_proba(Xtest)[:,1]"
   ]
  },
  {
   "cell_type": "code",
   "execution_count": 18,
   "metadata": {
    "collapsed": false
   },
   "outputs": [
    {
     "name": "stdout",
     "output_type": "stream",
     "text": [
      "Probability threshold for test: 0.444921440795\n"
     ]
    }
   ],
   "source": [
    "threshold = np.percentile(Ytest_proba,85)\n",
    "print \"Probability threshold for test:\",threshold\n",
    "\n",
    "\n",
    "Ytest_class = Ytest_proba >= threshold"
   ]
  },
  {
   "cell_type": "markdown",
   "metadata": {},
   "source": [
    "# Evaluate"
   ]
  },
  {
   "cell_type": "code",
   "execution_count": 19,
   "metadata": {
    "collapsed": false
   },
   "outputs": [
    {
     "name": "stdout",
     "output_type": "stream",
     "text": [
      "s= 224.130284547 b= 3520.7867428\n",
      "AMS = 3.73305366428\n"
     ]
    }
   ],
   "source": [
    "selection_Y = Ytest[Ytest_class==1]\n",
    "selection_weights = Wtest[Ytest_class==1]\n",
    "\n",
    "s = selection_Y.dot(selection_weights)\n",
    "b = (1 - selection_Y).dot(selection_weights)\n",
    "print 's=',s,'b=',b\n",
    "print \"AMS =\", ams(s,b)"
   ]
  }
 ],
 "metadata": {
  "kernelspec": {
   "display_name": "Python 2",
   "language": "python",
   "name": "python2"
  },
  "language_info": {
   "codemirror_mode": {
    "name": "ipython",
    "version": 2
   },
   "file_extension": ".py",
   "mimetype": "text/x-python",
   "name": "python",
   "nbconvert_exporter": "python",
   "pygments_lexer": "ipython2",
   "version": "2.7.6"
  }
 },
 "nbformat": 4,
 "nbformat_minor": 0
}
